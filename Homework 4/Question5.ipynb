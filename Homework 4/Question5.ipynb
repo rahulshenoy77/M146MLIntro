{
 "cells": [
  {
   "cell_type": "code",
   "execution_count": 1,
   "metadata": {},
   "outputs": [],
   "source": [
    "import numpy as np\n",
    "import pandas as pd\n",
    "import seaborn as sns\n",
    "import matplotlib.pyplot as plt\n",
    "from numpy import linalg as LA\n",
    "import cvxpy as cp"
   ]
  },
  {
   "cell_type": "code",
   "execution_count": 2,
   "metadata": {},
   "outputs": [
    {
     "data": {
      "text/html": [
       "<div>\n",
       "<style scoped>\n",
       "    .dataframe tbody tr th:only-of-type {\n",
       "        vertical-align: middle;\n",
       "    }\n",
       "\n",
       "    .dataframe tbody tr th {\n",
       "        vertical-align: top;\n",
       "    }\n",
       "\n",
       "    .dataframe thead th {\n",
       "        text-align: right;\n",
       "    }\n",
       "</style>\n",
       "<table border=\"1\" class=\"dataframe\">\n",
       "  <thead>\n",
       "    <tr style=\"text-align: right;\">\n",
       "      <th></th>\n",
       "      <th>Attribute_1</th>\n",
       "      <th>Attribute_2</th>\n",
       "      <th>Label</th>\n",
       "    </tr>\n",
       "  </thead>\n",
       "  <tbody>\n",
       "    <tr>\n",
       "      <th>0</th>\n",
       "      <td>2.18960</td>\n",
       "      <td>3.2823</td>\n",
       "      <td>1</td>\n",
       "    </tr>\n",
       "    <tr>\n",
       "      <th>1</th>\n",
       "      <td>0.47045</td>\n",
       "      <td>6.3264</td>\n",
       "      <td>1</td>\n",
       "    </tr>\n",
       "    <tr>\n",
       "      <th>2</th>\n",
       "      <td>6.78860</td>\n",
       "      <td>7.5641</td>\n",
       "      <td>1</td>\n",
       "    </tr>\n",
       "    <tr>\n",
       "      <th>3</th>\n",
       "      <td>6.79300</td>\n",
       "      <td>9.9104</td>\n",
       "      <td>1</td>\n",
       "    </tr>\n",
       "    <tr>\n",
       "      <th>4</th>\n",
       "      <td>9.34690</td>\n",
       "      <td>3.6534</td>\n",
       "      <td>-1</td>\n",
       "    </tr>\n",
       "  </tbody>\n",
       "</table>\n",
       "</div>"
      ],
      "text/plain": [
       "   Attribute_1  Attribute_2  Label\n",
       "0      2.18960       3.2823      1\n",
       "1      0.47045       6.3264      1\n",
       "2      6.78860       7.5641      1\n",
       "3      6.79300       9.9104      1\n",
       "4      9.34690       3.6534     -1"
      ]
     },
     "execution_count": 2,
     "metadata": {},
     "output_type": "execute_result"
    }
   ],
   "source": [
    "dataset = pd.read_csv(filepath_or_buffer='Data.csv',header=None,names=['Attribute_1','Attribute_2','Label'])\n",
    "dataset.head()"
   ]
  },
  {
   "cell_type": "markdown",
   "metadata": {},
   "source": [
    "## Q5(a)"
   ]
  },
  {
   "cell_type": "code",
   "execution_count": 3,
   "metadata": {},
   "outputs": [
    {
     "data": {
      "image/png": "[encoded data removed]",
      "text/plain": [
       "<Figure size 504x360 with 1 Axes>"
      ]
     },
     "metadata": {
      "needs_background": "light"
     },
     "output_type": "display_data"
    }
   ],
   "source": [
    "x = np.concatenate((dataset['Attribute_1'].values.reshape((dataset.shape[0],1)),dataset['Attribute_2'].values.reshape((dataset.shape[0],1))),axis=1)\n",
    "y = dataset['Label'].values\n",
    "\n",
    "label1 = (y==1)\n",
    "label2 = (y==-1)\n",
    "plt.scatter(x[label1,0],x[label1,1],color='red')\n",
    "plt.scatter(x[label2,0],x[label2,1],color='blue')\n",
    "plt.xlabel('x1')\n",
    "plt.ylabel('x2')\n",
    "plt.legend(('+1','-1'))\n",
    "plt.grid(True)\n",
    "fig = plt.gcf()\n",
    "fig.set_size_inches(7, 5)\n",
    "plt.show()"
   ]
  },
  {
   "cell_type": "markdown",
   "metadata": {},
   "source": [
    "## Q5(b)"
   ]
  },
  {
   "cell_type": "code",
   "execution_count": 4,
   "metadata": {},
   "outputs": [
    {
     "data": {
      "text/plain": [
       "0.790569415288356"
      ]
     },
     "execution_count": 4,
     "metadata": {},
     "output_type": "execute_result"
    }
   ],
   "source": [
    "m = x.shape[0]\n",
    "d = x.shape[1]\n",
    "\n",
    "w = cp.Variable(d)\n",
    "b = cp.Variable()\n",
    "\n",
    "obj = cp.Minimize((0.5*cp.norm(w,2)))\n",
    "\n",
    "constraints = [(y[i]*(w.T*x[i] + b) >= 1) for i in range(m)]\n",
    "\n",
    "prob = cp.Problem(obj,constraints)\n",
    "prob.solve()"
   ]
  },
  {
   "cell_type": "code",
   "execution_count": 5,
   "metadata": {},
   "outputs": [],
   "source": [
    "def plotClusters(x,y,w,b):\n",
    "    # Takes in a set of datapoints x and y for two clusters,\n",
    "    #  the hyperplane separating them in the form a'x -b = 0,\n",
    "    #  and a slab half-width t\n",
    "    d1_min = np.min(x[:,0])\n",
    "    d1_max = np.max(x[:,0])\n",
    "    # Line form: (-a[0] * x - b ) / a[1]\n",
    "    d2_atD1min = (-w[0]*d1_min - b ) / w[1]\n",
    "    d2_atD1max = (-w[0]*d1_max - b ) / w[1]\n",
    "\n",
    "    sup_up_atD1min = (-w[0]*d1_min - b + 1 ) / w[1]\n",
    "    sup_up_atD1max = (-w[0]*d1_max - b + 1 ) / w[1]\n",
    "    sup_dn_atD1min = (-w[0]*d1_min - b - 1 ) / w[1]\n",
    "    sup_dn_atD1max = (-w[0]*d1_max - b - 1 ) / w[1]\n",
    "\n",
    "    # Plot the clusters!\n",
    "    label1 = (y==1)\n",
    "    label2 = (y==-1)\n",
    "    plt.scatter(x[label1,0],x[label1,1],color='red')\n",
    "    plt.scatter(x[label2,0],x[label2,1],color='blue')\n",
    "    plt.xlabel('x1')\n",
    "    plt.ylabel('x2')\n",
    "    plt.legend(('+1','-1'))\n",
    "    plt.plot([d1_min,d1_max],[d2_atD1min,d2_atD1max],color='black')\n",
    "    plt.plot([d1_min,d1_max],[sup_up_atD1min,sup_up_atD1max],'--',color='gray')\n",
    "    plt.plot([d1_min,d1_max],[sup_dn_atD1min,sup_dn_atD1max],'--',color='gray')\n",
    "    plt.grid(True)\n",
    "    fig = plt.gcf()\n",
    "    fig.set_size_inches(7, 5)\n",
    "    plt.show()"
   ]
  },
  {
   "cell_type": "code",
   "execution_count": 6,
   "metadata": {},
   "outputs": [
    {
     "data": {
      "image/png": "[encoded data removed]",
      "text/plain": [
       "<Figure size 504x360 with 1 Axes>"
      ]
     },
     "metadata": {
      "needs_background": "light"
     },
     "output_type": "display_data"
    }
   ],
   "source": [
    "plotClusters(x,y,w.value,b.value)"
   ]
  },
  {
   "cell_type": "code",
   "execution_count": 7,
   "metadata": {},
   "outputs": [
    {
     "name": "stdout",
     "output_type": "stream",
     "text": [
      "0.6324555317208284\n"
     ]
    }
   ],
   "source": [
    "print(1/LA.norm(w.value))"
   ]
  },
  {
   "cell_type": "code",
   "execution_count": 8,
   "metadata": {},
   "outputs": [
    {
     "name": "stdout",
     "output_type": "stream",
     "text": [
      "[-0.5  1.5]\n"
     ]
    }
   ],
   "source": [
    "print(w.value)"
   ]
  },
  {
   "cell_type": "code",
   "execution_count": 9,
   "metadata": {},
   "outputs": [
    {
     "name": "stdout",
     "output_type": "stream",
     "text": [
      "-2.0000000014167476\n"
     ]
    }
   ],
   "source": [
    "print(b.value)"
   ]
  },
  {
   "cell_type": "markdown",
   "metadata": {},
   "source": [
    "## Q5(c)"
   ]
  },
  {
   "cell_type": "code",
   "execution_count": 10,
   "metadata": {},
   "outputs": [],
   "source": [
    "Q = np.multiply(x,y.reshape((y.shape[0],1)))\n",
    "P = np.matmul(Q,Q.T)\n",
    "P += 1e-13*np.eye(31)"
   ]
  },
  {
   "cell_type": "code",
   "execution_count": 11,
   "metadata": {},
   "outputs": [
    {
     "data": {
      "text/plain": [
       "1.2499999999998785"
      ]
     },
     "execution_count": 11,
     "metadata": {},
     "output_type": "execute_result"
    }
   ],
   "source": [
    "m = x.shape[0]\n",
    "d = x.shape[1]\n",
    "\n",
    "a = cp.Variable(m)\n",
    "\n",
    "obj = cp.Maximize((cp.sum(a) - (0.5*cp.quad_form(a,P))))\n",
    "\n",
    "constraint1 = [0<= a]\n",
    "constraint2 = [a*y == 0]\n",
    "\n",
    "constraints = constraint1 + constraint2\n",
    "\n",
    "prob = cp.Problem(obj,constraints)\n",
    "prob.solve()"
   ]
  },
  {
   "cell_type": "code",
   "execution_count": 12,
   "metadata": {},
   "outputs": [
    {
     "name": "stdout",
     "output_type": "stream",
     "text": [
      "[[ 7.  3.]\n",
      " [10.  4.]\n",
      " [ 0.  2.]\n",
      " [ 9.  5.]]\n"
     ]
    }
   ],
   "source": [
    "a = a.value\n",
    "xs = []\n",
    "ys = []\n",
    "for i in range(len(a)) :\n",
    "    if (a[i]<1e-9):\n",
    "        a[i]=0\n",
    "    else:\n",
    "        xs.append(x[i])\n",
    "        ys.append(y[i])\n",
    "\n",
    "xs = np.array(xs)\n",
    "ys = np.array(ys)\n",
    "print(xs)"
   ]
  },
  {
   "cell_type": "code",
   "execution_count": 13,
   "metadata": {},
   "outputs": [
    {
     "name": "stdout",
     "output_type": "stream",
     "text": [
      "[-1 -1  1  1]\n"
     ]
    }
   ],
   "source": [
    "print(ys)"
   ]
  },
  {
   "cell_type": "code",
   "execution_count": 14,
   "metadata": {},
   "outputs": [
    {
     "name": "stdout",
     "output_type": "stream",
     "text": [
      "[0.         0.         0.         0.         0.         0.\n",
      " 0.         0.         0.         0.         0.         0.\n",
      " 0.         0.         0.         0.         0.         0.\n",
      " 0.         0.         0.         0.         0.         0.\n",
      " 0.         0.         0.         1.03178447 0.21821553 0.26059482\n",
      " 0.98940518]\n"
     ]
    }
   ],
   "source": [
    "print(a)"
   ]
  },
  {
   "cell_type": "code",
   "execution_count": 15,
   "metadata": {},
   "outputs": [
    {
     "name": "stdout",
     "output_type": "stream",
     "text": [
      "[-0.5  1.5]\n"
     ]
    }
   ],
   "source": [
    "w = np.sum((a.reshape((a.shape[0],1))*Q),axis=0)\n",
    "print(w)"
   ]
  },
  {
   "cell_type": "code",
   "execution_count": null,
   "metadata": {},
   "outputs": [],
   "source": []
  }
 ],
 "metadata": {
  "kernelspec": {
   "display_name": "Python 3",
   "language": "python",
   "name": "python3"
  },
  "language_info": {
   "codemirror_mode": {
    "name": "ipython",
    "version": 3
   },
   "file_extension": ".py",
   "mimetype": "text/x-python",
   "name": "python",
   "nbconvert_exporter": "python",
   "pygments_lexer": "ipython3",
   "version": "3.8.1"
  }
 },
 "nbformat": 4,
 "nbformat_minor": 4
}
