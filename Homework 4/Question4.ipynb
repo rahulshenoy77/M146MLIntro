{
 "cells": [
  {
   "cell_type": "code",
   "execution_count": 1,
   "metadata": {},
   "outputs": [],
   "source": [
    "import numpy as np\n",
    "import pandas as pd\n",
    "import seaborn as sns\n",
    "import matplotlib.pyplot as plt\n",
    "from numpy import linalg as LA\n",
    "import cvxpy as cp"
   ]
  },
  {
   "cell_type": "code",
   "execution_count": 2,
   "metadata": {},
   "outputs": [
    {
     "data": {
      "text/html": [
       "<div>\n",
       "<style scoped>\n",
       "    .dataframe tbody tr th:only-of-type {\n",
       "        vertical-align: middle;\n",
       "    }\n",
       "\n",
       "    .dataframe tbody tr th {\n",
       "        vertical-align: top;\n",
       "    }\n",
       "\n",
       "    .dataframe thead th {\n",
       "        text-align: right;\n",
       "    }\n",
       "</style>\n",
       "<table border=\"1\" class=\"dataframe\">\n",
       "  <thead>\n",
       "    <tr style=\"text-align: right;\">\n",
       "      <th></th>\n",
       "      <th>Attribute_1</th>\n",
       "      <th>Attribute_2</th>\n",
       "      <th>Label</th>\n",
       "    </tr>\n",
       "  </thead>\n",
       "  <tbody>\n",
       "    <tr>\n",
       "      <th>0</th>\n",
       "      <td>-3.0</td>\n",
       "      <td>9.00</td>\n",
       "      <td>1</td>\n",
       "    </tr>\n",
       "    <tr>\n",
       "      <th>1</th>\n",
       "      <td>-2.5</td>\n",
       "      <td>6.25</td>\n",
       "      <td>1</td>\n",
       "    </tr>\n",
       "    <tr>\n",
       "      <th>2</th>\n",
       "      <td>3.0</td>\n",
       "      <td>9.00</td>\n",
       "      <td>1</td>\n",
       "    </tr>\n",
       "    <tr>\n",
       "      <th>3</th>\n",
       "      <td>-1.5</td>\n",
       "      <td>2.25</td>\n",
       "      <td>-1</td>\n",
       "    </tr>\n",
       "    <tr>\n",
       "      <th>4</th>\n",
       "      <td>0.0</td>\n",
       "      <td>0.00</td>\n",
       "      <td>-1</td>\n",
       "    </tr>\n",
       "  </tbody>\n",
       "</table>\n",
       "</div>"
      ],
      "text/plain": [
       "   Attribute_1  Attribute_2  Label\n",
       "0         -3.0         9.00      1\n",
       "1         -2.5         6.25      1\n",
       "2          3.0         9.00      1\n",
       "3         -1.5         2.25     -1\n",
       "4          0.0         0.00     -1"
      ]
     },
     "execution_count": 2,
     "metadata": {},
     "output_type": "execute_result"
    }
   ],
   "source": [
    "x1il = [-3,-2.5,3,-1.5,0,1]\n",
    "x2il = [9,6.25,9,2.25,0,1]\n",
    "yil = [1,1,1,-1,-1,-1]\n",
    "x1i = np.array(x1il)\n",
    "x2i = np.array(x2il)\n",
    "yi = np.array(yil)\n",
    "x = np.concatenate((x1i.reshape((x1i.shape[0],1)),x2i.reshape((x2i.shape[0],1))),axis=1)\n",
    "y = yi\n",
    "dataset = pd.DataFrame(list(zip(x1il, x2il,yil)), columns =['Attribute_1', 'Attribute_2', 'Label'])\n",
    "dataset.head()"
   ]
  },
  {
   "cell_type": "code",
   "execution_count": 3,
   "metadata": {},
   "outputs": [
    {
     "data": {
      "image/png": "[encoded data removed]",
      "text/plain": [
       "<Figure size 504x360 with 1 Axes>"
      ]
     },
     "metadata": {
      "needs_background": "light"
     },
     "output_type": "display_data"
    }
   ],
   "source": [
    "label1 = (y==1)\n",
    "label2 = (y==-1)\n",
    "plt.scatter(x[label1,0],x[label1,1],color='red')\n",
    "plt.scatter(x[label2,0],x[label2,1],color='blue')\n",
    "plt.xlabel('x1')\n",
    "plt.ylabel('x2')\n",
    "plt.legend(('+1','-1'))\n",
    "fig = plt.gcf()\n",
    "fig.set_size_inches(7, 5)\n",
    "plt.show()"
   ]
  },
  {
   "cell_type": "code",
   "execution_count": null,
   "metadata": {},
   "outputs": [],
   "source": []
  },
  {
   "cell_type": "code",
   "execution_count": 4,
   "metadata": {},
   "outputs": [
    {
     "data": {
      "text/plain": [
       "0.24253562510612459"
      ]
     },
     "execution_count": 4,
     "metadata": {},
     "output_type": "execute_result"
    }
   ],
   "source": [
    "m = x.shape[0]\n",
    "d = x.shape[1]\n",
    "\n",
    "w = cp.Variable(d)\n",
    "b = cp.Variable()\n",
    "\n",
    "obj = cp.Minimize((0.5*cp.norm(w,2)))\n",
    "\n",
    "constraints = [(y[i]*(w.T*x[i] + b) >= 1) for i in range(m)]\n",
    "\n",
    "prob = cp.Problem(obj,constraints)\n",
    "prob.solve()"
   ]
  },
  {
   "cell_type": "code",
   "execution_count": null,
   "metadata": {},
   "outputs": [],
   "source": []
  },
  {
   "cell_type": "code",
   "execution_count": 5,
   "metadata": {},
   "outputs": [],
   "source": [
    "def plotClusters(x,y,w,b):\n",
    "    # Takes in a set of datapoints x and y for two clusters,\n",
    "    #  the hyperplane separating them in the form a'x -b = 0,\n",
    "    #  and a slab half-width t\n",
    "    d1_min = np.min(x[:,0])\n",
    "    d1_max = np.max(x[:,0])\n",
    "    # Line form: (-a[0] * x - b ) / a[1]\n",
    "    d2_atD1min = (-w[0]*d1_min - b ) / w[1]\n",
    "    d2_atD1max = (-w[0]*d1_max - b ) / w[1]\n",
    "\n",
    "    sup_up_atD1min = (-w[0]*d1_min - b + 1 ) / w[1]\n",
    "    sup_up_atD1max = (-w[0]*d1_max - b + 1 ) / w[1]\n",
    "    sup_dn_atD1min = (-w[0]*d1_min - b - 1 ) / w[1]\n",
    "    sup_dn_atD1max = (-w[0]*d1_max - b - 1 ) / w[1]\n",
    "\n",
    "    # Plot the clusters!\n",
    "    label1 = (y==1)\n",
    "    label2 = (y==-1)\n",
    "    plt.scatter(x[label1,0],x[label1,1],color='red')\n",
    "    plt.scatter(x[label2,0],x[label2,1],color='blue')\n",
    "    plt.xlabel('x1')\n",
    "    plt.ylabel('x2')\n",
    "    plt.legend(('+1','-1'))\n",
    "    plt.plot([d1_min,d1_max],[d2_atD1min,d2_atD1max],color='black')\n",
    "    plt.plot([d1_min,d1_max],[sup_up_atD1min,sup_up_atD1max],'--',color='gray')\n",
    "    plt.plot([d1_min,d1_max],[sup_dn_atD1min,sup_dn_atD1max],'--',color='gray')\n",
    "    fig = plt.gcf()\n",
    "    fig.set_size_inches(7, 5)\n",
    "    plt.show()"
   ]
  },
  {
   "cell_type": "code",
   "execution_count": 6,
   "metadata": {},
   "outputs": [
    {
     "data": {
      "image/png": "[encoded data removed]",
      "text/plain": [
       "<Figure size 504x360 with 1 Axes>"
      ]
     },
     "metadata": {
      "needs_background": "light"
     },
     "output_type": "display_data"
    }
   ],
   "source": [
    "plotClusters(x,y,w.value,b.value)"
   ]
  },
  {
   "cell_type": "code",
   "execution_count": 10,
   "metadata": {},
   "outputs": [
    {
     "name": "stdout",
     "output_type": "stream",
     "text": [
      "2.0615528123103815\n"
     ]
    }
   ],
   "source": [
    "print(1/LA.norm(w.value))"
   ]
  },
  {
   "cell_type": "code",
   "execution_count": 9,
   "metadata": {},
   "outputs": [
    {
     "name": "stdout",
     "output_type": "stream",
     "text": [
      "[-0.11764682  0.4705883 ]\n"
     ]
    }
   ],
   "source": [
    "print(w.value)"
   ]
  },
  {
   "cell_type": "code",
   "execution_count": 11,
   "metadata": {},
   "outputs": [
    {
     "name": "stdout",
     "output_type": "stream",
     "text": [
      "-2.235293893963327\n"
     ]
    }
   ],
   "source": [
    "print(b.value)"
   ]
  },
  {
   "cell_type": "code",
   "execution_count": 12,
   "metadata": {},
   "outputs": [],
   "source": [
    "dataset1 = pd.read_csv(filepath_or_buffer='Data.csv',header=None,names=['Attribute_1','Attribute_2','Label'])"
   ]
  },
  {
   "cell_type": "code",
   "execution_count": null,
   "metadata": {},
   "outputs": [],
   "source": [
    "label1 = (y==1)\n",
    "label2 = (y==-1)\n",
    "plt.scatter(x[label1,0],x[label1,1],color='red')\n",
    "plt.scatter(x[label2,0],x[label2,1],color='blue')\n",
    "plt.xlabel('x1')\n",
    "plt.ylabel('x2')\n",
    "plt.legend(('+1','-1'))\n",
    "fig = plt.gcf()\n",
    "fig.set_size_inches(7, 5)\n",
    "plt.show()"
   ]
  }
 ],
 "metadata": {
  "kernelspec": {
   "display_name": "Python 3",
   "language": "python",
   "name": "python3"
  },
  "language_info": {
   "codemirror_mode": {
    "name": "ipython",
    "version": 3
   },
   "file_extension": ".py",
   "mimetype": "text/x-python",
   "name": "python",
   "nbconvert_exporter": "python",
   "pygments_lexer": "ipython3",
   "version": "3.8.1"
  }
 },
 "nbformat": 4,
 "nbformat_minor": 4
}
