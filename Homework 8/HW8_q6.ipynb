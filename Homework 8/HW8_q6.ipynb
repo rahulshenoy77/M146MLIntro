{
 "cells": [
  {
   "cell_type": "code",
   "execution_count": 1,
   "metadata": {},
   "outputs": [],
   "source": [
    "import numpy as np\n",
    "import pandas as pd\n",
    "import seaborn as sns\n",
    "import matplotlib.pyplot as plt\n",
    "from numpy import linalg as LA\n",
    "import cvxpy as cp\n",
    "from sklearn.metrics import accuracy_score"
   ]
  },
  {
   "cell_type": "code",
   "execution_count": 2,
   "metadata": {},
   "outputs": [
    {
     "name": "stdout",
     "output_type": "stream",
     "text": [
      "[[ 1.9  3.1  1. ]\n",
      " [ 2.1  2.1  1. ]\n",
      " [ 4.5  6.1  1. ]\n",
      " [ 4.1  4.5 -1. ]\n",
      " [ 3.5  0.9 -1. ]\n",
      " [ 5.1  6.9  1. ]\n",
      " [ 4.9  3.1 -1. ]\n",
      " [ 6.1  5.5  1. ]\n",
      " [ 8.2  6.1 -1. ]\n",
      " [ 7.9  2.2 -1. ]\n",
      " [ 8.5  3.5 -1. ]]\n"
     ]
    }
   ],
   "source": [
    "data = np.genfromtxt('AdaBoost_data.csv',delimiter=',')\n",
    "print(data)"
   ]
  },
  {
   "cell_type": "code",
   "execution_count": 3,
   "metadata": {},
   "outputs": [
    {
     "data": {
      "image/png": "[encoded data removed]",
      "text/plain": [
       "<Figure size 504x360 with 1 Axes>"
      ]
     },
     "metadata": {
      "needs_background": "light"
     },
     "output_type": "display_data"
    }
   ],
   "source": [
    "x = data[:,0:2]\n",
    "y = data[:,2]\n",
    "\n",
    "label1 = (y==1)\n",
    "label2 = (y==-1)\n",
    "plt.scatter(x[label1,0],x[label1,1],color='red')\n",
    "plt.scatter(x[label2,0],x[label2,1],color='blue')\n",
    "plt.xlabel('x1')\n",
    "plt.ylabel('x2')\n",
    "plt.legend(('+1','-1'))\n",
    "plt.grid(True)\n",
    "fig = plt.gcf()\n",
    "fig.set_size_inches(7, 5)\n",
    "plt.show()"
   ]
  },
  {
   "cell_type": "code",
   "execution_count": 4,
   "metadata": {},
   "outputs": [],
   "source": [
    "K = 3\n",
    "sarr = [-1,-1,1]\n",
    "iarr = [0,0,1]\n",
    "dk = (1.0/len(data))*np.ones(len(data))\n",
    "darr = [dk]\n",
    "epsarr = []\n",
    "alphaarr = []\n",
    "tarr = []\n",
    "yhatarr = []\n",
    "for k in range(K):\n",
    "    s = sarr[k]\n",
    "    i = iarr[k]\n",
    "    tmin = np.floor(min(x[:,i]))\n",
    "    tmax = np.ceil(max(x[:,i]))\n",
    "    trange = np.arange(tmin,(tmax+1))\n",
    "    for (j,t) in zip(range(len(trange)),trange):\n",
    "        ypred = np.sign((s*(x[:,i]-t)))\n",
    "        cond = (y!=ypred).astype('float')\n",
    "        errorn = np.dot(dk,cond)\n",
    "        if (j==0):\n",
    "            topt = t\n",
    "            errorp = errorn\n",
    "        else:\n",
    "            if (errorn<errorp):\n",
    "                topt = t\n",
    "                errorp = errorn\n",
    "    yhatk = np.sign((s*(x[:,i]-topt)))\n",
    "    condk = (y!=yhatk).astype('float')\n",
    "    epsk = np.dot(dk,condk)\n",
    "    alphak = 0.5*np.log((1-epsk)/epsk)\n",
    "    dk = np.multiply(dk,np.exp(-alphak*(np.multiply(y,yhatk))))\n",
    "    dk = dk/np.sum(dk)\n",
    "    darr.append(dk)\n",
    "    epsarr.append(epsk)\n",
    "    alphaarr.append(alphak)\n",
    "    tarr.append(topt)\n",
    "    yhatarr.append(yhatk)\n",
    "    \n",
    "ypred = np.sign(sum([alpha*yhat for (alpha,yhat) in zip(alphaarr,yhatarr)]))\n",
    "train_acc = accuracy_score(y,ypred)*100"
   ]
  },
  {
   "cell_type": "code",
   "execution_count": 5,
   "metadata": {},
   "outputs": [
    {
     "data": {
      "text/html": [
       "<div>\n",
       "<style scoped>\n",
       "    .dataframe tbody tr th:only-of-type {\n",
       "        vertical-align: middle;\n",
       "    }\n",
       "\n",
       "    .dataframe tbody tr th {\n",
       "        vertical-align: top;\n",
       "    }\n",
       "\n",
       "    .dataframe thead th {\n",
       "        text-align: right;\n",
       "    }\n",
       "</style>\n",
       "<table border=\"1\" class=\"dataframe\">\n",
       "  <thead>\n",
       "    <tr style=\"text-align: right;\">\n",
       "      <th></th>\n",
       "      <th>d_0</th>\n",
       "      <th>d_1</th>\n",
       "      <th>d_2</th>\n",
       "    </tr>\n",
       "  </thead>\n",
       "  <tbody>\n",
       "    <tr>\n",
       "      <th>0</th>\n",
       "      <td>0.090909</td>\n",
       "      <td>0.062500</td>\n",
       "      <td>0.038462</td>\n",
       "    </tr>\n",
       "    <tr>\n",
       "      <th>1</th>\n",
       "      <td>0.090909</td>\n",
       "      <td>0.062500</td>\n",
       "      <td>0.038462</td>\n",
       "    </tr>\n",
       "    <tr>\n",
       "      <th>2</th>\n",
       "      <td>0.090909</td>\n",
       "      <td>0.166667</td>\n",
       "      <td>0.102564</td>\n",
       "    </tr>\n",
       "    <tr>\n",
       "      <th>3</th>\n",
       "      <td>0.090909</td>\n",
       "      <td>0.062500</td>\n",
       "      <td>0.166667</td>\n",
       "    </tr>\n",
       "    <tr>\n",
       "      <th>4</th>\n",
       "      <td>0.090909</td>\n",
       "      <td>0.062500</td>\n",
       "      <td>0.166667</td>\n",
       "    </tr>\n",
       "    <tr>\n",
       "      <th>5</th>\n",
       "      <td>0.090909</td>\n",
       "      <td>0.166667</td>\n",
       "      <td>0.102564</td>\n",
       "    </tr>\n",
       "    <tr>\n",
       "      <th>6</th>\n",
       "      <td>0.090909</td>\n",
       "      <td>0.062500</td>\n",
       "      <td>0.166667</td>\n",
       "    </tr>\n",
       "    <tr>\n",
       "      <th>7</th>\n",
       "      <td>0.090909</td>\n",
       "      <td>0.166667</td>\n",
       "      <td>0.102564</td>\n",
       "    </tr>\n",
       "    <tr>\n",
       "      <th>8</th>\n",
       "      <td>0.090909</td>\n",
       "      <td>0.062500</td>\n",
       "      <td>0.038462</td>\n",
       "    </tr>\n",
       "    <tr>\n",
       "      <th>9</th>\n",
       "      <td>0.090909</td>\n",
       "      <td>0.062500</td>\n",
       "      <td>0.038462</td>\n",
       "    </tr>\n",
       "    <tr>\n",
       "      <th>10</th>\n",
       "      <td>0.090909</td>\n",
       "      <td>0.062500</td>\n",
       "      <td>0.038462</td>\n",
       "    </tr>\n",
       "  </tbody>\n",
       "</table>\n",
       "</div>"
      ],
      "text/plain": [
       "         d_0       d_1       d_2\n",
       "0   0.090909  0.062500  0.038462\n",
       "1   0.090909  0.062500  0.038462\n",
       "2   0.090909  0.166667  0.102564\n",
       "3   0.090909  0.062500  0.166667\n",
       "4   0.090909  0.062500  0.166667\n",
       "5   0.090909  0.166667  0.102564\n",
       "6   0.090909  0.062500  0.166667\n",
       "7   0.090909  0.166667  0.102564\n",
       "8   0.090909  0.062500  0.038462\n",
       "9   0.090909  0.062500  0.038462\n",
       "10  0.090909  0.062500  0.038462"
      ]
     },
     "execution_count": 5,
     "metadata": {},
     "output_type": "execute_result"
    }
   ],
   "source": [
    "d_df = pd.DataFrame(np.array(darr[:-1]).T,columns=['d_0','d_1','d_2'])\n",
    "d_df.head(50)"
   ]
  },
  {
   "cell_type": "code",
   "execution_count": 6,
   "metadata": {},
   "outputs": [
    {
     "name": "stdout",
     "output_type": "stream",
     "text": [
      "t^(k) = [3.0, 7.0, 5.0]\n",
      "alpha^(k) = [0.49041462650586315, 0.7331685343967134, 1.01844096363052]\n",
      "Training accuracy = 100.00 %\n"
     ]
    }
   ],
   "source": [
    "print('t^(k) = ' + str(tarr))\n",
    "print('alpha^(k) = ' + str(alphaarr))\n",
    "print('Training accuracy = {0:.2f} %'.format(train_acc))"
   ]
  },
  {
   "cell_type": "code",
   "execution_count": 7,
   "metadata": {},
   "outputs": [
    {
     "data": {
      "image/png": "[encoded data removed]",
      "text/plain": [
       "<Figure size 504x360 with 1 Axes>"
      ]
     },
     "metadata": {
      "needs_background": "light"
     },
     "output_type": "display_data"
    },
    {
     "data": {
      "image/png": "[encoded data removed]",
      "text/plain": [
       "<Figure size 504x360 with 1 Axes>"
      ]
     },
     "metadata": {
      "needs_background": "light"
     },
     "output_type": "display_data"
    },
    {
     "data": {
      "image/png": "[encoded data removed]",
      "text/plain": [
       "<Figure size 504x360 with 1 Axes>"
      ]
     },
     "metadata": {
      "needs_background": "light"
     },
     "output_type": "display_data"
    }
   ],
   "source": [
    "for k in range(K):\n",
    "    scale = 600*darr[k]\n",
    "    ik = iarr[k]\n",
    "    tk = tarr[k]\n",
    "    alphak = alphaarr[k]\n",
    "    if (ik==0):\n",
    "        xdes = tk\n",
    "        ymin = min(x[:,1])\n",
    "        ymax = max(x[:,1])\n",
    "        plt.vlines(x = xdes,ymin = ymin, ymax=ymax, linewidth=2, color='r')\n",
    "    else :\n",
    "        ydes = tk\n",
    "        xmin = min(x[:,0])\n",
    "        xmax = max(x[:,0])\n",
    "        plt.hlines(y = ydes, xmin = xmin, xmax=xmax, linewidth=2, color='r')\n",
    "        \n",
    "    xdes = t \n",
    "    plt.scatter(x[:,0],x[:,1],s = scale, color='blue')\n",
    "    plt.xlabel('x1')\n",
    "    plt.ylabel('x2')\n",
    "    plt.grid(True)\n",
    "    fig = plt.gcf()\n",
    "    fig.set_size_inches(7, 5)\n",
    "    plt.show()"
   ]
  },
  {
   "cell_type": "code",
   "execution_count": null,
   "metadata": {},
   "outputs": [],
   "source": []
  }
 ],
 "metadata": {
  "kernelspec": {
   "display_name": "Python 3",
   "language": "python",
   "name": "python3"
  },
  "language_info": {
   "codemirror_mode": {
    "name": "ipython",
    "version": 3
   },
   "file_extension": ".py",
   "mimetype": "text/x-python",
   "name": "python",
   "nbconvert_exporter": "python",
   "pygments_lexer": "ipython3",
   "version": "3.8.1"
  }
 },
 "nbformat": 4,
 "nbformat_minor": 4
}
